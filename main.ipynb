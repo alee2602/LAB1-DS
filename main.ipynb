{
 "cells": [
  {
   "cell_type": "markdown",
   "id": "c014f489",
   "metadata": {},
   "source": [
    "# **Laboratorio 1 - Series de Tiempo**\n",
    "\n",
    "- Derek Arreaga - 22537\n",
    "- Mónica Salvatierra - 22249\n",
    "\n",
    "*Todo el código fuente se encuentra dentro del repositorio de GitHub, incluyendo los análisis individuales de cada dataset.*\n",
    "\n",
    "Link del repositorio: https://github.com/alee2602/LAB1-DS"
   ]
  },
  {
   "cell_type": "markdown",
   "id": "fcba3a51",
   "metadata": {},
   "source": [
    "### **Introducción**"
   ]
  },
  {
   "cell_type": "markdown",
   "id": "372f313f",
   "metadata": {},
   "source": [
    "En este análisis se aplicaron y compararon distintos modelos de predicción de series temporales sobre cuatro datasets reales. El objetivo principal fue evaluar el desempeño de modelos clásicos y modernos, como Holt-Winters, SARIMA y Prophet, para seleccionar el que mejor predice las variables objetivo según el caso. La evaluación se basó en métricas de error como RMSE y MAE.\n"
   ]
  },
  {
   "cell_type": "markdown",
   "id": "42a93a49",
   "metadata": {},
   "source": [
    "### **Descripción de los datasets**"
   ]
  },
  {
   "cell_type": "markdown",
   "id": "29dba269",
   "metadata": {},
   "source": [
    "- `daily-total-female-births.csv`: Nacimientos diarios de mujeres en California (1959)\n",
    "- `shampoo.csv`: Ventas de shampoo mensuales (2001–2003)\n",
    "- `monthly-mean-temp`: \n",
    "- `monthly-car-sales`: Ventas de shampoo mensuales (2001–2003)\n",
    "\n"
   ]
  },
  {
   "cell_type": "markdown",
   "id": "9de54429",
   "metadata": {},
   "source": [
    "### **Modelos utilizados**"
   ]
  },
  {
   "cell_type": "markdown",
   "id": "b376b197",
   "metadata": {},
   "source": [
    "Aparte del análisis exploratorio de cada serie de tiempo, se modelaron distintos algoritmos para determinar cuál era el más eficiente para cada problema. Sin tomar en cuenta el modelo de promedio móviles debido a su naturaleza y el hecho de que no captura patrones, estos fueron los algoritmos que se utilizaron para comparación de métricas:\n",
    "\n",
    "- SES (Simple Exponential Smoothing)\n",
    "-  Holt-Winters\n",
    "- SARIMA\n",
    "- Prophet"
   ]
  },
  {
   "cell_type": "markdown",
   "id": "4bb455bc",
   "metadata": {},
   "source": [
    "### **Resultados**"
   ]
  },
  {
   "cell_type": "code",
   "execution_count": 2,
   "id": "020d8264",
   "metadata": {},
   "outputs": [],
   "source": [
    "# Estaba pensando que aqui incluyamos la imagen de la gráfica del mejor modelo para cada dataset.\n",
    "# Y podríamos copiar y pegar el análisis que hicimos individualmente en cada notebook."
   ]
  },
  {
   "cell_type": "markdown",
   "id": "2f8df1eb",
   "metadata": {},
   "source": [
    "### **Comparación de errores**"
   ]
  },
  {
   "cell_type": "code",
   "execution_count": 7,
   "id": "8bd600e0",
   "metadata": {},
   "outputs": [],
   "source": [
    "# Aquí pensaba poner la imagen de las gráficas o tablas o lo que sea de lo que se hizo en cada dataset para la comparación de errores\n",
    "# Para que puedan ver el rendimiento no solo del mejor modelo, si no que de los otros modelos.\n",
    "# y pues aquí también se podría copiar y pegar el análisis que cada quién hizo en su respectivo notebook"
   ]
  },
  {
   "cell_type": "markdown",
   "id": "f63ae6f1",
   "metadata": {},
   "source": [
    "### **Conclusiones**"
   ]
  },
  {
   "cell_type": "code",
   "execution_count": 6,
   "id": "f91cdee8",
   "metadata": {},
   "outputs": [],
   "source": [
    "# Se espera que se expanda un poco las conclusiones. Yo hablé por mí \n",
    "# pero hay que incluir también el mejor modelo de los otros dos datasets."
   ]
  },
  {
   "cell_type": "markdown",
   "id": "74d75442",
   "metadata": {},
   "source": [
    "Se concluye que **SARIMA** fue el modelo más preciso para la mayoría de datasets trabajados, debido a su capacidad de capturar tanto la tendencia como la estacionalidad. \n",
    "\n",
    "Sin embargo, Prophet\n",
    "\n",
    "En trabajos futuros se recomienda explorar optimización de hiperparámetros y validación cruzada temporal para una evaluación más robusta.\n"
   ]
  }
 ],
 "metadata": {
  "kernelspec": {
   "display_name": "Python 3",
   "language": "python",
   "name": "python3"
  },
  "language_info": {
   "codemirror_mode": {
    "name": "ipython",
    "version": 3
   },
   "file_extension": ".py",
   "mimetype": "text/x-python",
   "name": "python",
   "nbconvert_exporter": "python",
   "pygments_lexer": "ipython3",
   "version": "3.10.11"
  }
 },
 "nbformat": 4,
 "nbformat_minor": 5
}
