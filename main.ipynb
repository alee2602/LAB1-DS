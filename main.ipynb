{
 "cells": [
  {
   "cell_type": "markdown",
   "id": "c014f489",
   "metadata": {},
   "source": [
    "# **Laboratorio #1 - Series de Tiempo**\n",
    "\n",
    "- Derek Arreaga - 22537\n",
    "- Mónica Salvatierra - 22249\n",
    "\n",
    "Link del repositorio: https://github.com/alee2602/LAB1-DS"
   ]
  },
  {
   "cell_type": "markdown",
   "id": "372f313f",
   "metadata": {},
   "source": []
  }
 ],
 "metadata": {
  "language_info": {
   "name": "python"
  }
 },
 "nbformat": 4,
 "nbformat_minor": 5
}
